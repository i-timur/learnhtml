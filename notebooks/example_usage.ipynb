{
 "cells": [
  {
   "cell_type": "markdown",
   "id": "brief-pacific",
   "metadata": {},
   "source": [
    "# Example usage"
   ]
  },
  {
   "cell_type": "markdown",
   "id": "fluid-association",
   "metadata": {},
   "source": [
    "## Install additional deps"
   ]
  },
  {
   "cell_type": "code",
   "execution_count": 1,
   "id": "public-theory",
   "metadata": {},
   "outputs": [
    {
     "name": "stdout",
     "output_type": "stream",
     "text": [
      "Requirement already satisfied: bs4 in /home/nichita/miniconda3/envs/learnhtml/lib/python3.6/site-packages (0.0.1)\n",
      "Requirement already satisfied: beautifulsoup4 in /home/nichita/miniconda3/envs/learnhtml/lib/python3.6/site-packages (from bs4) (4.9.3)\n",
      "Requirement already satisfied: soupsieve>1.2 in /home/nichita/miniconda3/envs/learnhtml/lib/python3.6/site-packages (from beautifulsoup4->bs4) (2.2)\n",
      "Collecting webpage2html\n",
      "  Cloning https://github.com/zTrix/webpage2html (to revision master) to /tmp/pip-install-5iumtfrk/webpage2html_be22ecbd5e8c472dad7f366a3a862992\n",
      "  Running command git clone -q https://github.com/zTrix/webpage2html /tmp/pip-install-5iumtfrk/webpage2html_be22ecbd5e8c472dad7f366a3a862992\n",
      "Requirement already satisfied: gdown in /home/nichita/miniconda3/envs/learnhtml/lib/python3.6/site-packages (3.12.2)\n",
      "Requirement already satisfied: six in /home/nichita/miniconda3/envs/learnhtml/lib/python3.6/site-packages (from gdown) (1.15.0)\n",
      "Requirement already satisfied: requests[socks] in /home/nichita/miniconda3/envs/learnhtml/lib/python3.6/site-packages (from gdown) (2.25.1)\n",
      "Requirement already satisfied: tqdm in /home/nichita/miniconda3/envs/learnhtml/lib/python3.6/site-packages (from gdown) (4.58.0)\n",
      "Requirement already satisfied: filelock in /home/nichita/miniconda3/envs/learnhtml/lib/python3.6/site-packages (from gdown) (3.0.12)\n",
      "Requirement already satisfied: idna<3,>=2.5 in /home/nichita/miniconda3/envs/learnhtml/lib/python3.6/site-packages (from requests[socks]->gdown) (2.10)\n",
      "Requirement already satisfied: urllib3<1.27,>=1.21.1 in /home/nichita/miniconda3/envs/learnhtml/lib/python3.6/site-packages (from requests[socks]->gdown) (1.26.3)\n",
      "Requirement already satisfied: chardet<5,>=3.0.2 in /home/nichita/miniconda3/envs/learnhtml/lib/python3.6/site-packages (from requests[socks]->gdown) (4.0.0)\n",
      "Requirement already satisfied: certifi>=2017.4.17 in /home/nichita/miniconda3/envs/learnhtml/lib/python3.6/site-packages (from requests[socks]->gdown) (2020.12.5)\n",
      "Requirement already satisfied: PySocks!=1.5.7,>=1.5.6 in /home/nichita/miniconda3/envs/learnhtml/lib/python3.6/site-packages (from requests[socks]->gdown) (1.7.1)\n"
     ]
    }
   ],
   "source": [
    "!pip install bs4\n",
    "!pip install git+https://github.com/zTrix/webpage2html@master#egg=webpage2html\n",
    "!pip install gdown"
   ]
  },
  {
   "cell_type": "code",
   "execution_count": 2,
   "id": "distant-accounting",
   "metadata": {},
   "outputs": [
    {
     "name": "stderr",
     "output_type": "stream",
     "text": [
      "Using TensorFlow backend.\n"
     ]
    }
   ],
   "source": [
    "import pickle\n",
    "from learnhtml.extractor import HTMLExtractor\n",
    "import requests\n",
    "import webpage2html"
   ]
  },
  {
   "cell_type": "markdown",
   "id": "critical-consent",
   "metadata": {},
   "source": [
    "## Loading the model"
   ]
  },
  {
   "cell_type": "markdown",
   "id": "suspected-triumph",
   "metadata": {},
   "source": [
    "First we download the pretrained models and unzip them"
   ]
  },
  {
   "cell_type": "code",
   "execution_count": 3,
   "id": "crucial-imperial",
   "metadata": {},
   "outputs": [
    {
     "name": "stdout",
     "output_type": "stream",
     "text": [
      "Downloading...\n",
      "From: https://drive.google.com/uc?id=1WZYB8hmEhKbpaFvvWnv7UNKe8EC06-hU\n",
      "To: /home/nichita/Documents/learnhtml/notebooks/models.zip\n",
      "36.4MB [00:01, 18.6MB/s]\n",
      "Archive:  models.zip\n",
      "  inflating: model1.pkl              \n",
      "  inflating: model2.pkl              \n"
     ]
    }
   ],
   "source": [
    "!gdown --id \"1WZYB8hmEhKbpaFvvWnv7UNKe8EC06-hU\" --output models.zip\n",
    "!unzip models"
   ]
  },
  {
   "cell_type": "markdown",
   "id": "accomplished-grove",
   "metadata": {},
   "source": [
    "Now that it's downloaded, load it from the pickle."
   ]
  },
  {
   "cell_type": "code",
   "execution_count": 4,
   "id": "painful-subject",
   "metadata": {},
   "outputs": [],
   "source": [
    "with open('model2.pkl', 'rb') as f:\n",
    "    model = pickle.load(f)   # the second model is better"
   ]
  },
  {
   "cell_type": "markdown",
   "id": "popular-advertiser",
   "metadata": {},
   "source": [
    "## Using the model with the extractor\n",
    "We instantiate the html extractor with out pretrained model."
   ]
  },
  {
   "cell_type": "code",
   "execution_count": 5,
   "id": "collectible-belle",
   "metadata": {},
   "outputs": [
    {
     "data": {
      "text/plain": [
       "<learnhtml.extractor.HTMLExtractor at 0x7f0120bc9f28>"
      ]
     },
     "execution_count": 5,
     "metadata": {},
     "output_type": "execute_result"
    }
   ],
   "source": [
    "# instantiate the extractor with the model\n",
    "extractor = HTMLExtractor(model)\n",
    "extractor"
   ]
  },
  {
   "cell_type": "code",
   "execution_count": 6,
   "id": "visible-spelling",
   "metadata": {},
   "outputs": [],
   "source": [
    "# fetch the html from this website\n",
    "url = 'https://herbsutter.com/'\n",
    "html = webpage2html.generate(url, verbose=False)  # webpage2html downloads all dependencies of the page as well"
   ]
  },
  {
   "cell_type": "markdown",
   "id": "designed-governor",
   "metadata": {},
   "source": [
    "Now we can see all the xpaths that the model identified as content."
   ]
  },
  {
   "cell_type": "code",
   "execution_count": 7,
   "id": "informative-arthur",
   "metadata": {},
   "outputs": [
    {
     "name": "stderr",
     "output_type": "stream",
     "text": [
      "/home/nichita/Documents/learnhtml/learnhtml/features.py:139: FutureWarning: from_items is deprecated. Please use DataFrame.from_dict(dict(items), ...) instead. DataFrame.from_dict(OrderedDict(items)) may be used to preserve the key order.\n",
      "  return pd.DataFrame.from_items(df_items)\n"
     ]
    },
    {
     "data": {
      "text/plain": [
       "['/html/body/div[1]/div[2]/div/div[1]/main/article[1]/header/h1',\n",
       " '/html/body/div[1]/div[2]/div/div[1]/main/article[1]/div/p[2]',\n",
       " '/html/body/div[1]/div[2]/div/div[1]/main/article[1]/div/p[3]',\n",
       " '/html/body/div[1]/div[2]/div/div[1]/main/article[1]/div/p[4]',\n",
       " '/html/body/div[1]/div[2]/div/div[1]/main/article[1]/div/p[5]',\n",
       " '/html/body/div[1]/div[2]/div/div[1]/main/article[1]/div/p[6]',\n",
       " '/html/body/div[1]/div[2]/div/div[1]/main/article[1]/div/h2[3]',\n",
       " '/html/body/div[1]/div[2]/div/div[1]/main/article[1]/div/p[7]',\n",
       " '/html/body/div[1]/div[2]/div/div[1]/main/article[1]/div/p[8]',\n",
       " '/html/body/div[1]/div[2]/div/div[1]/main/article[1]/div/p[9]',\n",
       " '/html/body/div[1]/div[2]/div/div[1]/main/article[1]/div/p[12]',\n",
       " '/html/body/div[1]/div[2]/div/div[1]/main/article[1]/div/p[13]',\n",
       " '/html/body/div[1]/div[2]/div/div[1]/main/article[1]/div/p[15]',\n",
       " '/html/body/div[1]/div[2]/div/div[1]/main/article[1]/div/p[16]',\n",
       " '/html/body/div[1]/div[2]/div/div[1]/main/article[1]/div/p[17]',\n",
       " '/html/body/div[1]/div[2]/div/div[1]/main/article[1]/div/p[18]',\n",
       " '/html/body/div[1]/div[2]/div/div[1]/main/article[1]/div/p[19]',\n",
       " '/html/body/div[1]/div[2]/div/div[1]/main/article[1]/div/p[20]',\n",
       " '/html/body/div[1]/div[2]/div/div[1]/main/article[1]/div/p[21]',\n",
       " '/html/body/div[1]/div[2]/div/div[1]/main/article[1]/div/p[22]',\n",
       " '/html/body/div[1]/div[2]/div/div[1]/main/article[1]/div/p[23]',\n",
       " '/html/body/div[1]/div[2]/div/div[1]/main/article[1]/div/p[24]',\n",
       " '/html/body/div[1]/div[2]/div/div[1]/main/article[1]/div/h3[1]',\n",
       " '/html/body/div[1]/div[2]/div/div[1]/main/article[1]/div/p[25]',\n",
       " '/html/body/div[1]/div[2]/div/div[1]/main/article[1]/div/p[26]',\n",
       " '/html/body/div[1]/div[2]/div/div[1]/main/article[1]/div/h3[2]',\n",
       " '/html/body/div[1]/div[2]/div/div[1]/main/article[1]/div/p[27]',\n",
       " '/html/body/div[1]/div[2]/div/div[1]/main/article[1]/div/h3[3]',\n",
       " '/html/body/div[1]/div[2]/div/div[1]/main/article[1]/div/p[28]',\n",
       " '/html/body/div[1]/div[2]/div/div[1]/main/article[1]/div/p[29]',\n",
       " '/html/body/div[1]/div[2]/div/div[1]/main/article[1]/div/p[30]',\n",
       " '/html/body/div[1]/div[2]/div/div[1]/main/article[1]/div/p[31]',\n",
       " '/html/body/div[1]/div[2]/div/div[1]/main/article[1]/div/p[32]',\n",
       " '/html/body/div[1]/div[2]/div/div[1]/main/article[1]/div/p[33]',\n",
       " '/html/body/div[1]/div[2]/div/div[1]/main/article[1]/div/p[34]',\n",
       " '/html/body/div[1]/div[2]/div/div[1]/main/article[1]/div/p[35]',\n",
       " '/html/body/div[1]/div[2]/div/div[1]/main/article[1]/div/p[36]',\n",
       " '/html/body/div[1]/div[2]/div/div[1]/main/article[1]/div/p[37]',\n",
       " '/html/body/div[1]/div[2]/div/div[1]/main/article[1]/div/p[39]',\n",
       " '/html/body/div[1]/div[2]/div/div[1]/main/article[1]/div/p[40]',\n",
       " '/html/body/div[1]/div[2]/div/div[1]/main/article[1]/div/p[41]',\n",
       " '/html/body/div[1]/div[2]/div/div[1]/main/article[1]/div/p[42]',\n",
       " '/html/body/div[1]/div[2]/div/div[1]/main/article[1]/div/p[43]',\n",
       " '/html/body/div[1]/div[2]/div/div[1]/main/article[1]/div/p[44]',\n",
       " '/html/body/div[1]/div[2]/div/div[1]/main/article[1]/div/p[45]',\n",
       " '/html/body/div[1]/div[2]/div/div[1]/main/article[1]/div/p[46]',\n",
       " '/html/body/div[1]/div[2]/div/div[1]/main/article[1]/div/p[47]',\n",
       " '/html/body/div[1]/div[2]/div/div[1]/main/article[2]/header/h1',\n",
       " '/html/body/div[1]/div[2]/div/div[1]/main/article[2]/div/p[1]',\n",
       " '/html/body/div[1]/div[2]/div/div[1]/main/article[2]/div/p[2]',\n",
       " '/html/body/div[1]/div[2]/div/div[1]/main/article[2]/div/h2[1]',\n",
       " '/html/body/div[1]/div[2]/div/div[1]/main/article[2]/div/p[3]',\n",
       " '/html/body/div[1]/div[2]/div/div[1]/main/article[2]/div/h2[2]',\n",
       " '/html/body/div[1]/div[2]/div/div[1]/main/article[2]/div/p[4]',\n",
       " '/html/body/div[1]/div[2]/div/div[1]/main/article[2]/div/p[5]',\n",
       " '/html/body/div[1]/div[2]/div/div[1]/main/article[2]/div/p[6]',\n",
       " '/html/body/div[1]/div[2]/div/div[1]/main/article[2]/div/p[7]',\n",
       " '/html/body/div[1]/div[2]/div/div[1]/main/article[2]/div/p[8]',\n",
       " '/html/body/div[1]/div[2]/div/div[1]/main/article[2]/div/p[9]',\n",
       " '/html/body/div[1]/div[2]/div/div[1]/main/article[2]/div/p[10]',\n",
       " '/html/body/div[1]/div[2]/div/div[1]/main/article[2]/div/p[11]',\n",
       " '/html/body/div[1]/div[2]/div/div[1]/main/article[2]/div/p[12]',\n",
       " '/html/body/div[1]/div[2]/div/div[1]/main/article[2]/div/p[13]',\n",
       " '/html/body/div[1]/div[2]/div/div[1]/main/article[2]/div/p[14]',\n",
       " '/html/body/div[1]/div[2]/div/div[1]/main/article[2]/div/p[15]',\n",
       " '/html/body/div[1]/div[2]/div/div[1]/main/article[2]/div/p[16]',\n",
       " '/html/body/div[1]/div[2]/div/div[1]/main/article[2]/div/p[17]',\n",
       " '/html/body/div[1]/div[2]/div/div[1]/main/article[2]/div/p[18]',\n",
       " '/html/body/div[1]/div[2]/div/div[1]/main/article[2]/div/p[19]',\n",
       " '/html/body/div[1]/div[2]/div/div[1]/main/article[3]/header/h1',\n",
       " '/html/body/div[1]/div[2]/div/div[1]/main/article[3]/div/p[2]',\n",
       " '/html/body/div[1]/div[2]/div/div[1]/main/article[3]/div/p[3]',\n",
       " '/html/body/div[1]/div[2]/div/div[1]/main/article[3]/div/p[4]',\n",
       " '/html/body/div[1]/div[2]/div/div[1]/main/article[3]/div/p[5]',\n",
       " '/html/body/div[1]/div[2]/div/div[1]/main/article[3]/div/p[6]',\n",
       " '/html/body/div[1]/div[2]/div/div[1]/main/article[3]/div/p[7]',\n",
       " '/html/body/div[1]/div[2]/div/div[1]/main/article[4]/header/h1',\n",
       " '/html/body/div[1]/div[2]/div/div[1]/main/article[4]/div/p[1]',\n",
       " '/html/body/div[1]/div[2]/div/div[1]/main/article[4]/div/p[2]',\n",
       " '/html/body/div[1]/div[2]/div/div[1]/main/article[4]/div/p[3]',\n",
       " '/html/body/div[1]/div[2]/div/div[1]/main/article[4]/div/p[4]',\n",
       " '/html/body/div[1]/div[2]/div/div[1]/main/article[4]/div/p[5]',\n",
       " '/html/body/div[1]/div[2]/div/div[1]/main/article[4]/div/p[8]',\n",
       " '/html/body/div[1]/div[2]/div/div[1]/main/article[4]/div/h3[1]',\n",
       " '/html/body/div[1]/div[2]/div/div[1]/main/article[4]/div/p[9]',\n",
       " '/html/body/div[1]/div[2]/div/div[1]/main/article[4]/div/p[10]',\n",
       " '/html/body/div[1]/div[2]/div/div[1]/main/article[4]/div/p[11]',\n",
       " '/html/body/div[1]/div[2]/div/div[1]/main/article[4]/div/p[12]',\n",
       " '/html/body/div[1]/div[2]/div/div[1]/main/article[4]/div/h3[2]',\n",
       " '/html/body/div[1]/div[2]/div/div[1]/main/article[4]/div/p[13]',\n",
       " '/html/body/div[1]/div[2]/div/div[1]/main/article[4]/div/p[14]',\n",
       " '/html/body/div[1]/div[2]/div/div[1]/main/article[4]/div/p[15]',\n",
       " '/html/body/div[1]/div[2]/div/div[1]/main/article[4]/div/h3[3]',\n",
       " '/html/body/div[1]/div[2]/div/div[1]/main/article[4]/div/p[16]',\n",
       " '/html/body/div[1]/div[2]/div/div[1]/main/article[4]/div/p[17]',\n",
       " '/html/body/div[1]/div[2]/div/div[1]/main/article[4]/div/p[18]',\n",
       " '/html/body/div[1]/div[2]/div/div[1]/main/article[4]/div/p[21]',\n",
       " '/html/body/div[1]/div[2]/div/div[1]/main/article[4]/div/p[22]',\n",
       " '/html/body/div[1]/div[2]/div/div[1]/main/article[4]/div/p[23]',\n",
       " '/html/body/div[1]/div[2]/div/div[1]/main/article[4]/div/p[26]',\n",
       " '/html/body/div[1]/div[2]/div/div[1]/main/article[4]/div/p[27]',\n",
       " '/html/body/div[1]/div[2]/div/div[1]/main/article[4]/div/p[28]',\n",
       " '/html/body/div[1]/div[2]/div/div[1]/main/article[4]/div/p[29]',\n",
       " '/html/body/div[1]/div[2]/div/div[1]/main/article[4]/div/p[30]',\n",
       " '/html/body/div[1]/div[2]/div/div[1]/main/article[4]/div/p[31]',\n",
       " '/html/body/div[1]/div[2]/div/div[1]/main/article[4]/div/p[32]',\n",
       " '/html/body/div[1]/div[2]/div/div[1]/main/article[4]/div/p[33]',\n",
       " '/html/body/div[1]/div[2]/div/div[1]/main/article[4]/div/p[35]',\n",
       " '/html/body/div[1]/div[2]/div/div[1]/main/article[4]/div/p[36]',\n",
       " '/html/body/div[1]/div[2]/div/div[1]/main/article[4]/div/p[37]',\n",
       " '/html/body/div[1]/div[2]/div/div[1]/main/article[4]/div/p[38]',\n",
       " '/html/body/div[1]/div[2]/div/div[1]/main/article[4]/div/p[39]',\n",
       " '/html/body/div[1]/div[2]/div/div[1]/main/article[4]/div/p[40]',\n",
       " '/html/body/div[1]/div[2]/div/div[1]/main/article[4]/div/p[41]',\n",
       " '/html/body/div[1]/div[2]/div/div[1]/main/article[4]/div/p[42]',\n",
       " '/html/body/div[1]/div[2]/div/div[1]/main/article[4]/div/p[43]',\n",
       " '/html/body/div[1]/div[2]/div/div[1]/main/article[4]/div/p[44]',\n",
       " '/html/body/div[1]/div[2]/div/div[1]/main/article[4]/div/p[45]',\n",
       " '/html/body/div[1]/div[2]/div/div[1]/main/article[4]/div/p[46]',\n",
       " '/html/body/div[1]/div[2]/div/div[1]/main/article[4]/div/p[47]',\n",
       " '/html/body/div[1]/div[2]/div/div[1]/main/article[4]/div/p[48]',\n",
       " '/html/body/div[1]/div[2]/div/div[1]/main/article[5]/header/h1',\n",
       " '/html/body/div[1]/div[2]/div/div[1]/main/article[5]/div/p[1]',\n",
       " '/html/body/div[1]/div[2]/div/div[1]/main/article[5]/div/p[2]',\n",
       " '/html/body/div[1]/div[2]/div/div[1]/main/article[5]/div/p[3]',\n",
       " '/html/body/div[1]/div[2]/div/div[1]/main/article[5]/div/p[4]',\n",
       " '/html/body/div[1]/div[2]/div/div[1]/main/article[5]/div/p[5]',\n",
       " '/html/body/div[1]/div[2]/div/div[1]/main/article[5]/div/p[6]',\n",
       " '/html/body/div[1]/div[2]/div/div[1]/main/article[6]/header/h1',\n",
       " '/html/body/div[1]/div[2]/div/div[1]/main/article[6]/div/p[1]',\n",
       " '/html/body/div[1]/div[2]/div/div[1]/main/article[6]/div/p[2]',\n",
       " '/html/body/div[1]/div[2]/div/div[1]/main/article[6]/div/h2[2]',\n",
       " '/html/body/div[1]/div[2]/div/div[1]/main/article[6]/div/p[3]',\n",
       " '/html/body/div[1]/div[2]/div/div[1]/main/article[6]/div/p[4]',\n",
       " '/html/body/div[1]/div[2]/div/div[1]/main/article[6]/div/h2[3]',\n",
       " '/html/body/div[1]/div[2]/div/div[1]/main/article[6]/div/p[5]',\n",
       " '/html/body/div[1]/div[2]/div/div[1]/main/article[6]/div/p[6]',\n",
       " '/html/body/div[1]/div[2]/div/div[1]/main/article[6]/div/p[7]',\n",
       " '/html/body/div[1]/div[2]/div/div[1]/main/article[6]/div/p[8]',\n",
       " '/html/body/div[1]/div[2]/div/div[1]/main/article[6]/div/p[9]',\n",
       " '/html/body/div[1]/div[2]/div/div[1]/main/article[6]/div/h2[4]',\n",
       " '/html/body/div[1]/div[2]/div/div[1]/main/article[6]/div/p[10]',\n",
       " '/html/body/div[1]/div[2]/div/div[1]/main/article[6]/div/p[11]',\n",
       " '/html/body/div[1]/div[2]/div/div[1]/main/article[6]/div/p[12]',\n",
       " '/html/body/div[1]/div[2]/div/div[1]/main/article[6]/div/p[13]',\n",
       " '/html/body/div[1]/div[2]/div/div[1]/main/article[6]/div/p[14]',\n",
       " '/html/body/div[1]/div[2]/div/div[1]/main/article[6]/div/p[15]',\n",
       " '/html/body/div[1]/div[2]/div/div[1]/main/article[6]/div/p[16]',\n",
       " '/html/body/div[1]/div[2]/div/div[1]/main/article[6]/div/p[17]',\n",
       " '/html/body/div[1]/div[2]/div/div[1]/main/article[6]/div/p[18]',\n",
       " '/html/body/div[1]/div[2]/div/div[1]/main/article[6]/div/p[21]',\n",
       " '/html/body/div[1]/div[2]/div/div[1]/main/article[6]/div/h2[6]',\n",
       " '/html/body/div[1]/div[2]/div/div[1]/main/article[6]/div/p[22]',\n",
       " '/html/body/div[1]/div[2]/div/div[1]/main/article[6]/div/h2[7]',\n",
       " '/html/body/div[1]/div[2]/div/div[1]/main/article[6]/div/p[23]',\n",
       " '/html/body/div[1]/div[2]/div/div[1]/main/article[6]/div/p[24]',\n",
       " '/html/body/div[1]/div[2]/div/div[1]/main/article[6]/div/p[25]',\n",
       " '/html/body/div[1]/div[2]/div/div[1]/main/article[6]/div/p[26]',\n",
       " '/html/body/div[1]/div[2]/div/div[1]/main/article[6]/div/p[27]',\n",
       " '/html/body/div[1]/div[2]/div/div[1]/main/article[6]/div/p[28]',\n",
       " '/html/body/div[1]/div[2]/div/div[1]/main/article[6]/div/p[29]',\n",
       " '/html/body/div[1]/div[2]/div/div[1]/main/article[6]/div/p[30]',\n",
       " '/html/body/div[1]/div[2]/div/div[1]/main/article[6]/div/p[31]',\n",
       " '/html/body/div[1]/div[2]/div/div[1]/main/article[7]/header/h1',\n",
       " '/html/body/div[1]/div[2]/div/div[1]/main/article[7]/div/p[1]',\n",
       " '/html/body/div[1]/div[2]/div/div[1]/main/article[7]/div/p[2]',\n",
       " '/html/body/div[1]/div[2]/div/div[1]/main/article[7]/div/p[3]',\n",
       " '/html/body/div[1]/div[2]/div/div[1]/main/article[7]/div/p[4]',\n",
       " '/html/body/div[1]/div[2]/div/div[1]/main/article[7]/div/p[5]',\n",
       " '/html/body/div[1]/div[2]/div/div[1]/main/article[7]/div/p[6]',\n",
       " '/html/body/div[1]/div[2]/div/div[1]/main/article[7]/div/p[7]',\n",
       " '/html/body/div[1]/div[2]/div/div[1]/main/article[7]/div/p[8]',\n",
       " '/html/body/div[1]/div[2]/div/div[1]/main/article[7]/div/p[9]',\n",
       " '/html/body/div[1]/div[2]/div/div[1]/main/article[7]/div/p[10]',\n",
       " '/html/body/div[1]/div[2]/div/div[1]/main/article[8]/header/h1',\n",
       " '/html/body/div[1]/div[2]/div/div[1]/main/article[8]/div/p[1]',\n",
       " '/html/body/div[1]/div[2]/div/div[1]/main/article[8]/div/p[2]',\n",
       " '/html/body/div[1]/div[2]/div/div[1]/main/article[8]/div/p[3]',\n",
       " '/html/body/div[1]/div[2]/div/div[1]/main/article[8]/div/p[4]',\n",
       " '/html/body/div[1]/div[2]/div/div[1]/main/article[8]/div/p[5]',\n",
       " '/html/body/div[1]/div[2]/div/div[1]/main/article[8]/div/p[6]',\n",
       " '/html/body/div[1]/div[2]/div/div[1]/main/article[8]/div/p[7]',\n",
       " '/html/body/div[1]/div[2]/div/div[1]/main/article[8]/div/p[8]',\n",
       " '/html/body/div[1]/div[2]/div/div[1]/main/article[8]/div/h3[2]',\n",
       " '/html/body/div[1]/div[2]/div/div[1]/main/article[8]/div/p[9]',\n",
       " '/html/body/div[1]/div[2]/div/div[1]/main/article[8]/div/p[10]',\n",
       " '/html/body/div[1]/div[2]/div/div[1]/main/article[8]/div/h3[3]',\n",
       " '/html/body/div[1]/div[2]/div/div[1]/main/article[8]/div/p[11]',\n",
       " '/html/body/div[1]/div[2]/div/div[1]/main/article[8]/div/p[12]',\n",
       " '/html/body/div[1]/div[2]/div/div[1]/main/article[8]/div/p[13]',\n",
       " '/html/body/div[1]/div[2]/div/div[1]/main/article[8]/div/p[14]',\n",
       " '/html/body/div[1]/div[2]/div/div[1]/main/article[8]/div/p[15]',\n",
       " '/html/body/div[1]/div[2]/div/div[1]/main/article[8]/div/p[16]',\n",
       " '/html/body/div[1]/div[2]/div/div[1]/main/article[8]/div/p[17]',\n",
       " '/html/body/div[1]/div[2]/div/div[1]/main/article[8]/div/p[18]',\n",
       " '/html/body/div[1]/div[2]/div/div[1]/main/article[8]/div/p[19]',\n",
       " '/html/body/div[1]/div[2]/div/div[1]/main/article[8]/div/p[20]',\n",
       " '/html/body/div[1]/div[2]/div/div[1]/main/article[8]/div/p[21]',\n",
       " '/html/body/div[1]/div[2]/div/div[1]/main/article[8]/div/p[22]',\n",
       " '/html/body/div[1]/div[2]/div/div[1]/main/article[8]/div/p[23]',\n",
       " '/html/body/div[1]/div[2]/div/div[1]/main/article[8]/div/p[24]',\n",
       " '/html/body/div[1]/div[2]/div/div[1]/main/article[8]/div/p[25]',\n",
       " '/html/body/div[1]/div[2]/div/div[1]/main/article[8]/div/p[26]',\n",
       " '/html/body/div[1]/div[2]/div/div[1]/main/article[8]/div/p[27]',\n",
       " '/html/body/div[1]/div[2]/div/div[1]/main/article[8]/div/p[28]',\n",
       " '/html/body/div[1]/div[2]/div/div[1]/main/article[8]/div/p[29]',\n",
       " '/html/body/div[1]/div[2]/div/div[1]/main/article[8]/div/p[30]',\n",
       " '/html/body/div[1]/div[2]/div/div[1]/main/article[8]/div/p[31]',\n",
       " '/html/body/div[1]/div[2]/div/div[1]/main/article[8]/div/p[32]',\n",
       " '/html/body/div[1]/div[2]/div/div[1]/main/article[8]/div/p[33]',\n",
       " '/html/body/div[1]/div[2]/div/div[1]/main/article[8]/div/p[34]',\n",
       " '/html/body/div[1]/div[2]/div/div[1]/main/article[8]/div/p[35]',\n",
       " '/html/body/div[1]/div[2]/div/div[1]/main/article[8]/div/p[36]',\n",
       " '/html/body/div[1]/div[2]/div/div[1]/main/article[8]/div/p[37]',\n",
       " '/html/body/div[1]/div[2]/div/div[1]/main/article[9]/header/h1',\n",
       " '/html/body/div[1]/div[2]/div/div[1]/main/article[9]/div/p[1]',\n",
       " '/html/body/div[1]/div[2]/div/div[1]/main/article[9]/div/p[2]',\n",
       " '/html/body/div[1]/div[2]/div/div[1]/main/article[9]/div/h2[1]',\n",
       " '/html/body/div[1]/div[2]/div/div[1]/main/article[9]/div/p[4]',\n",
       " '/html/body/div[1]/div[2]/div/div[1]/main/article[9]/div/p[5]',\n",
       " '/html/body/div[1]/div[2]/div/div[1]/main/article[9]/div/p[6]',\n",
       " '/html/body/div[1]/div[2]/div/div[1]/main/article[9]/div/h2[2]',\n",
       " '/html/body/div[1]/div[2]/div/div[1]/main/article[9]/div/p[7]',\n",
       " '/html/body/div[1]/div[2]/div/div[1]/main/article[9]/div/p[8]',\n",
       " '/html/body/div[1]/div[2]/div/div[1]/main/article[9]/div/p[10]',\n",
       " '/html/body/div[1]/div[2]/div/div[1]/main/article[9]/div/p[11]',\n",
       " '/html/body/div[1]/div[2]/div/div[1]/main/article[9]/div/p[12]',\n",
       " '/html/body/div[1]/div[2]/div/div[1]/main/article[10]/header/h1',\n",
       " '/html/body/div[1]/div[2]/div/div[1]/main/article[10]/div/p[1]',\n",
       " '/html/body/div[1]/div[2]/div/div[1]/main/article[10]/div/p[2]',\n",
       " '/html/body/div[1]/div[2]/div/div[1]/main/article[10]/div/p[3]',\n",
       " '/html/body/div[1]/div[2]/div/div[1]/main/article[10]/div/p[4]',\n",
       " '/html/body/div[1]/div[2]/div/div[1]/main/article[10]/div/p[5]',\n",
       " '/html/body/div[1]/div[2]/div/div[1]/main/article[10]/div/p[6]',\n",
       " '/html/body/div[1]/div[2]/div/div[1]/main/article[10]/div/p[7]',\n",
       " '/html/body/div[1]/div[2]/div/div[1]/main/article[10]/div/p[8]']"
      ]
     },
     "execution_count": 7,
     "metadata": {},
     "output_type": "execute_result"
    }
   ],
   "source": [
    "extractor.extract_from_html(html)"
   ]
  }
 ],
 "metadata": {
  "kernelspec": {
   "display_name": "Python 3",
   "language": "python",
   "name": "python3"
  },
  "language_info": {
   "codemirror_mode": {
    "name": "ipython",
    "version": 3
   },
   "file_extension": ".py",
   "mimetype": "text/x-python",
   "name": "python",
   "nbconvert_exporter": "python",
   "pygments_lexer": "ipython3",
   "version": "3.6.13"
  }
 },
 "nbformat": 4,
 "nbformat_minor": 5
}
